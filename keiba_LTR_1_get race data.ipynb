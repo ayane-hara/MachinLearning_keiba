{
 "cells": [
  {
   "cell_type": "code",
   "execution_count": 1,
   "metadata": {
    "colab": {
     "base_uri": "https://localhost:8080/",
     "height": 1000
    },
    "colab_type": "code",
    "executionInfo": {
     "elapsed": 32459,
     "status": "ok",
     "timestamp": 1594975678842,
     "user": {
      "displayName": "田中綾音",
      "photoUrl": "",
      "userId": "08389963741383968176"
     },
     "user_tz": -540
    },
    "id": "O76PbGzVYSAP",
    "outputId": "1b9655c7-ef93-46a4-c52a-36cd6698c634"
   },
   "outputs": [
    {
     "name": "stdout",
     "output_type": "stream",
     "text": [
      "\r",
      "0% [Working]\r",
      "            \r",
      "Get:1 http://security.ubuntu.com/ubuntu bionic-security InRelease [88.7 kB]\n",
      "\r",
      "0% [Connecting to archive.ubuntu.com (91.189.88.142)] [1 InRelease 14.2 kB/88.7\r",
      "0% [Connecting to archive.ubuntu.com (91.189.88.142)] [Connected to cloud.r-pro\r",
      "0% [1 InRelease gpgv 88.7 kB] [Waiting for headers] [Waiting for headers] [Wait\r",
      "                                                                               \r",
      "Ign:2 https://developer.download.nvidia.com/compute/cuda/repos/ubuntu1804/x86_64  InRelease\n",
      "\r",
      "0% [1 InRelease gpgv 88.7 kB] [Waiting for headers] [Waiting for headers] [Wait\r",
      "                                                                               \r",
      "Get:3 https://cloud.r-project.org/bin/linux/ubuntu bionic-cran35/ InRelease [3,626 B]\n",
      "\r",
      "0% [1 InRelease gpgv 88.7 kB] [Waiting for headers] [3 InRelease 3,626 B/3,626 \r",
      "0% [1 InRelease gpgv 88.7 kB] [Waiting for headers] [Waiting for headers] [Wait\r",
      "                                                                               \r",
      "Get:4 http://ppa.launchpad.net/graphics-drivers/ppa/ubuntu bionic InRelease [21.3 kB]\n",
      "\r",
      "0% [1 InRelease gpgv 88.7 kB] [Waiting for headers] [Waiting for headers] [4 In\r",
      "                                                                               \r",
      "Ign:5 https://developer.download.nvidia.com/compute/machine-learning/repos/ubuntu1804/x86_64  InRelease\n",
      "\r",
      "0% [1 InRelease gpgv 88.7 kB] [Waiting for headers] [4 InRelease 14.2 kB/21.3 k\r",
      "                                                                               \r",
      "Hit:6 http://archive.ubuntu.com/ubuntu bionic InRelease\n",
      "\r",
      "0% [1 InRelease gpgv 88.7 kB] [Waiting for headers] [Waiting for headers] [4 In\r",
      "                                                                               \r",
      "Hit:7 https://developer.download.nvidia.com/compute/cuda/repos/ubuntu1804/x86_64  Release\n",
      "\r",
      "0% [1 InRelease gpgv 88.7 kB] [Waiting for headers] [4 InRelease 14.2 kB/21.3 k\r",
      "                                                                               \r",
      "Hit:8 https://developer.download.nvidia.com/compute/machine-learning/repos/ubuntu1804/x86_64  Release\n",
      "\r",
      "0% [1 InRelease gpgv 88.7 kB] [Waiting for headers] [4 InRelease 14.2 kB/21.3 k\r",
      "0% [1 InRelease gpgv 88.7 kB] [Waiting for headers] [Connecting to ppa.launchpa\r",
      "                                                                               \r",
      "Get:9 http://archive.ubuntu.com/ubuntu bionic-updates InRelease [88.7 kB]\n",
      "Get:10 http://security.ubuntu.com/ubuntu bionic-security/multiverse amd64 Packages [9,279 B]\n",
      "Get:11 http://security.ubuntu.com/ubuntu bionic-security/restricted amd64 Packages [89.9 kB]\n",
      "Get:12 http://security.ubuntu.com/ubuntu bionic-security/main amd64 Packages [1,005 kB]\n",
      "Get:13 http://ppa.launchpad.net/marutter/c2d4u3.5/ubuntu bionic InRelease [15.4 kB]\n",
      "Get:14 http://security.ubuntu.com/ubuntu bionic-security/universe amd64 Packages [869 kB]\n",
      "Get:15 http://archive.ubuntu.com/ubuntu bionic-backports InRelease [74.6 kB]\n",
      "Get:18 http://ppa.launchpad.net/graphics-drivers/ppa/ubuntu bionic/main amd64 Packages [43.3 kB]\n",
      "Get:19 http://archive.ubuntu.com/ubuntu bionic-updates/restricted amd64 Packages [104 kB]\n",
      "Get:20 http://ppa.launchpad.net/marutter/c2d4u3.5/ubuntu bionic/main Sources [1,849 kB]\n",
      "Get:21 http://archive.ubuntu.com/ubuntu bionic-updates/main amd64 Packages [1,307 kB]\n",
      "Get:22 http://archive.ubuntu.com/ubuntu bionic-updates/multiverse amd64 Packages [13.7 kB]\n",
      "Get:23 http://archive.ubuntu.com/ubuntu bionic-updates/universe amd64 Packages [1,407 kB]\n",
      "Get:24 http://archive.ubuntu.com/ubuntu bionic-backports/universe amd64 Packages [8,432 B]\n",
      "Get:25 http://ppa.launchpad.net/marutter/c2d4u3.5/ubuntu bionic/main amd64 Packages [892 kB]\n",
      "Fetched 7,889 kB in 3s (2,383 kB/s)\n",
      "Reading package lists... Done\n",
      "Reading package lists... Done\n",
      "Building dependency tree       \n",
      "Reading state information... Done\n",
      "The following package was automatically installed and is no longer required:\n",
      "  libnvidia-common-440\n",
      "Use 'apt autoremove' to remove it.\n",
      "The following additional packages will be installed:\n",
      "  chromium-browser chromium-browser-l10n chromium-codecs-ffmpeg-extra\n",
      "Suggested packages:\n",
      "  webaccounts-chromium-extension unity-chromium-extension adobe-flashplugin\n",
      "The following NEW packages will be installed:\n",
      "  chromium-browser chromium-browser-l10n chromium-chromedriver\n",
      "  chromium-codecs-ffmpeg-extra\n",
      "0 upgraded, 4 newly installed, 0 to remove and 66 not upgraded.\n",
      "Need to get 75.5 MB of archives.\n",
      "After this operation, 256 MB of additional disk space will be used.\n",
      "Get:1 http://archive.ubuntu.com/ubuntu bionic-updates/universe amd64 chromium-codecs-ffmpeg-extra amd64 83.0.4103.61-0ubuntu0.18.04.1 [1,119 kB]\n",
      "Get:2 http://archive.ubuntu.com/ubuntu bionic-updates/universe amd64 chromium-browser amd64 83.0.4103.61-0ubuntu0.18.04.1 [66.7 MB]\n",
      "Get:3 http://archive.ubuntu.com/ubuntu bionic-updates/universe amd64 chromium-browser-l10n all 83.0.4103.61-0ubuntu0.18.04.1 [3,378 kB]\n",
      "Get:4 http://archive.ubuntu.com/ubuntu bionic-updates/universe amd64 chromium-chromedriver amd64 83.0.4103.61-0ubuntu0.18.04.1 [4,294 kB]\n",
      "Fetched 75.5 MB in 3s (23.2 MB/s)\n",
      "Selecting previously unselected package chromium-codecs-ffmpeg-extra.\n",
      "(Reading database ... 144465 files and directories currently installed.)\n",
      "Preparing to unpack .../chromium-codecs-ffmpeg-extra_83.0.4103.61-0ubuntu0.18.04.1_amd64.deb ...\n",
      "Unpacking chromium-codecs-ffmpeg-extra (83.0.4103.61-0ubuntu0.18.04.1) ...\n",
      "Selecting previously unselected package chromium-browser.\n",
      "Preparing to unpack .../chromium-browser_83.0.4103.61-0ubuntu0.18.04.1_amd64.deb ...\n",
      "Unpacking chromium-browser (83.0.4103.61-0ubuntu0.18.04.1) ...\n",
      "Selecting previously unselected package chromium-browser-l10n.\n",
      "Preparing to unpack .../chromium-browser-l10n_83.0.4103.61-0ubuntu0.18.04.1_all.deb ...\n",
      "Unpacking chromium-browser-l10n (83.0.4103.61-0ubuntu0.18.04.1) ...\n",
      "Selecting previously unselected package chromium-chromedriver.\n",
      "Preparing to unpack .../chromium-chromedriver_83.0.4103.61-0ubuntu0.18.04.1_amd64.deb ...\n",
      "Unpacking chromium-chromedriver (83.0.4103.61-0ubuntu0.18.04.1) ...\n",
      "Setting up chromium-codecs-ffmpeg-extra (83.0.4103.61-0ubuntu0.18.04.1) ...\n",
      "Setting up chromium-browser (83.0.4103.61-0ubuntu0.18.04.1) ...\n",
      "update-alternatives: using /usr/bin/chromium-browser to provide /usr/bin/x-www-browser (x-www-browser) in auto mode\n",
      "update-alternatives: using /usr/bin/chromium-browser to provide /usr/bin/gnome-www-browser (gnome-www-browser) in auto mode\n",
      "Setting up chromium-chromedriver (83.0.4103.61-0ubuntu0.18.04.1) ...\n",
      "Setting up chromium-browser-l10n (83.0.4103.61-0ubuntu0.18.04.1) ...\n",
      "Processing triggers for hicolor-icon-theme (0.17-2) ...\n",
      "Processing triggers for mime-support (3.60ubuntu1) ...\n",
      "Processing triggers for man-db (2.8.3-2ubuntu0.1) ...\n",
      "W: Operation was interrupted before it could finish\n",
      "cp: '/usr/lib/chromium-browser/chromedriver' and '/usr/bin/chromedriver' are the same file\n",
      "Collecting selenium\n",
      "\u001b[?25l  Downloading https://files.pythonhosted.org/packages/80/d6/4294f0b4bce4de0abf13e17190289f9d0613b0a44e5dd6a7f5ca98459853/selenium-3.141.0-py2.py3-none-any.whl (904kB)\n",
      "\u001b[K     |████████████████████████████████| 911kB 2.7MB/s \n",
      "\u001b[?25hRequirement already satisfied: urllib3 in /usr/local/lib/python3.6/dist-packages (from selenium) (1.24.3)\n",
      "Installing collected packages: selenium\n",
      "Successfully installed selenium-3.141.0\n"
     ]
    }
   ],
   "source": [
    "!apt-get update\n",
    "!apt install chromium-chromedriver\n",
    "!cp /usr/lib/chromium-browser/chromedriver /usr/bin\n",
    "!pip install selenium"
   ]
  },
  {
   "cell_type": "code",
   "execution_count": 2,
   "metadata": {
    "colab": {},
    "colab_type": "code",
    "executionInfo": {
     "elapsed": 32456,
     "status": "ok",
     "timestamp": 1594975678852,
     "user": {
      "displayName": "田中綾音",
      "photoUrl": "",
      "userId": "08389963741383968176"
     },
     "user_tz": -540
    },
    "id": "gDbumEOtYTX8"
   },
   "outputs": [],
   "source": [
    "import requests\n",
    "import pandas as pd\n",
    "import numpy as np\n",
    "import re\n",
    "import time\n",
    "from datetime import datetime, timedelta\n",
    "from bs4 import BeautifulSoup"
   ]
  },
  {
   "cell_type": "code",
   "execution_count": 3,
   "metadata": {
    "colab": {},
    "colab_type": "code",
    "executionInfo": {
     "elapsed": 32456,
     "status": "ok",
     "timestamp": 1594975678856,
     "user": {
      "displayName": "田中綾音",
      "photoUrl": "",
      "userId": "08389963741383968176"
     },
     "user_tz": -540
    },
    "id": "KJjr1UyGYVem"
   },
   "outputs": [],
   "source": [
    "# for selenuim\n",
    "from selenium import webdriver\n",
    "from selenium.webdriver.chrome.options import Options\n",
    "from selenium.webdriver.support.ui import Select,WebDriverWait\n",
    "from selenium.webdriver.support import expected_conditions as EC"
   ]
  },
  {
   "cell_type": "code",
   "execution_count": null,
   "metadata": {
    "colab": {},
    "colab_type": "code",
    "id": "KWQzepUOYW5M"
   },
   "outputs": [],
   "source": [
    "options = Options()\n",
    "options.add_argument('--headless')\n",
    "options.add_argument(\"--no-sandbox\")\n",
    "driver = webdriver.Chrome(chrome_options=options) \n",
    "wait = WebDriverWait(driver,10)\n",
    "\n",
    "# netkeiba.comの検索ページを開く\n",
    "driver.get('https://db.netkeiba.com/?pid=race_search_detail')\n",
    "time.sleep(1)\n",
    "wait.until(EC.presence_of_all_elements_located)"
   ]
  },
  {
   "cell_type": "code",
   "execution_count": null,
   "metadata": {
    "colab": {},
    "colab_type": "code",
    "executionInfo": {
     "elapsed": 37731,
     "status": "aborted",
     "timestamp": 1594975684149,
     "user": {
      "displayName": "田中綾音",
      "photoUrl": "",
      "userId": "08389963741383968176"
     },
     "user_tz": -540
    },
    "id": "EZRDFOq0YZ8y"
   },
   "outputs": [],
   "source": [
    "# 検索条件入力\n",
    "\n",
    "# 種別 : 芝 + ダート\n",
    "\n",
    "# 芝\n",
    "driver.find_element_by_id('check_track_1').click()\n",
    "# ダート\n",
    "driver.find_element_by_id('check_track_2').click()\n",
    "\n",
    "# 期間 : 2015/1 ~ 現在\n",
    "year = datetime.now().year\n",
    "month = datetime.now().month\n",
    "\n",
    "# 期間：開始年\n",
    "start_year_element = driver.find_element_by_name('start_year')\n",
    "start_year_select = Select(start_year_element)\n",
    "start_year_select.select_by_value('2015')\n",
    "# 期間：開始月\n",
    "start_mon_element = driver.find_element_by_name('start_mon')\n",
    "start_mon_select = Select(start_mon_element)\n",
    "start_mon_select.select_by_value('1')\n",
    "# 期間：終了年\n",
    "end_year_element = driver.find_element_by_name('end_year')\n",
    "end_year_select = Select(end_year_element)\n",
    "end_year_select.select_by_value(str(year))\n",
    "# 期間：終了月\n",
    "end_mon_element = driver.find_element_by_name('end_mon')\n",
    "end_mon_select = Select(end_mon_element)\n",
    "end_mon_select.select_by_value(str(month))\n",
    "\n",
    "# 競馬場：すべて\n",
    "driver.find_element_by_id('check_Jyo_01').click()\n",
    "driver.find_element_by_id('check_Jyo_02').click()\n",
    "driver.find_element_by_id('check_Jyo_03').click()\n",
    "driver.find_element_by_id('check_Jyo_04').click()\n",
    "driver.find_element_by_id('check_Jyo_05').click()\n",
    "driver.find_element_by_id('check_Jyo_06').click()\n",
    "driver.find_element_by_id('check_Jyo_07').click()\n",
    "driver.find_element_by_id('check_Jyo_08').click()\n",
    "driver.find_element_by_id('check_Jyo_09').click()\n",
    "driver.find_element_by_id('check_Jyo_10').click()\n",
    "\n",
    "# 表示件数を選択(20,50,100の中から最大の100へ)\n",
    "list_element = driver.find_element_by_name('list')\n",
    "list_select = Select(list_element)\n",
    "list_select.select_by_value(\"100\")\n",
    "\n",
    "# フォームを送信\n",
    "frm = driver.find_element_by_css_selector(\"#db_search_detail_form > form\")\n",
    "frm.submit()\n",
    "time.sleep(5)\n",
    "wait.until(EC.presence_of_all_elements_located)"
   ]
  },
  {
   "cell_type": "code",
   "execution_count": null,
   "metadata": {
    "colab": {},
    "colab_type": "code",
    "executionInfo": {
     "elapsed": 37734,
     "status": "aborted",
     "timestamp": 1594975684163,
     "user": {
      "displayName": "田中綾音",
      "photoUrl": "",
      "userId": "08389963741383968176"
     },
     "user_tz": -540
    },
    "id": "5N5hEIjQYqIN"
   },
   "outputs": [],
   "source": [
    "%%time\n",
    "\n",
    "with open('race_url.txt', 'w+') as f:\n",
    "    while True:\n",
    "        time.sleep(5)\n",
    "        wait.until(EC.presence_of_all_elements_located)\n",
    "        all_rows = driver.find_element_by_class_name('race_table_01').find_elements_by_tag_name(\"tr\")\n",
    "        for row in range(1, len(all_rows)):\n",
    "            r = all_rows[row].find_elements_by_tag_name(\"td\")[3].text\n",
    "            if r in [\"10\", \"11\"]:\n",
    "                race_href=all_rows[row].find_elements_by_tag_name(\"td\")[4].find_element_by_tag_name(\"a\").get_attribute(\"href\")\n",
    "                f.write(race_href+\"\\n\")\n",
    "        try:\n",
    "            target = driver.find_elements_by_link_text(\"次\")[0]\n",
    "            driver.execute_script(\"arguments[0].click();\", target) #javascriptでクリック処理\n",
    "        except IndexError:\n",
    "            break"
   ]
  },
  {
   "cell_type": "code",
   "execution_count": 6,
   "metadata": {
    "colab": {
     "base_uri": "https://localhost:8080/",
     "height": 35
    },
    "colab_type": "code",
    "executionInfo": {
     "elapsed": 1056,
     "status": "ok",
     "timestamp": 1594975697186,
     "user": {
      "displayName": "田中綾音",
      "photoUrl": "",
      "userId": "08389963741383968176"
     },
     "user_tz": -540
    },
    "id": "Kz_MZMVXaakv",
    "outputId": "bfd15e48-0bad-4edc-a072-ff6fe5a4013c"
   },
   "outputs": [
    {
     "name": "stdout",
     "output_type": "stream",
     "text": [
      "3187 601\n"
     ]
    }
   ],
   "source": [
    "urls = []\n",
    "\n",
    "with open('race_url.txt', 'r') as f:\n",
    "    for line in f.readlines():\n",
    "        urls.append(line.replace('\\n', ''))\n",
    "\n",
    "print(len(urls))"
   ]
  },
  {
   "cell_type": "code",
   "execution_count": 7,
   "metadata": {
    "colab": {},
    "colab_type": "code",
    "executionInfo": {
     "elapsed": 789,
     "status": "ok",
     "timestamp": 1594975715652,
     "user": {
      "displayName": "田中綾音",
      "photoUrl": "",
      "userId": "08389963741383968176"
     },
     "user_tz": -540
    },
    "id": "k1XOMcIrrZqV"
   },
   "outputs": [],
   "source": [
    "def convert_num(value:str, flg:bool):\n",
    "    '''\n",
    "    str型を数値int/float型に変更\n",
    "    null、空文字、変更不可の場合Nanを返却\n",
    "    '''\n",
    "    \n",
    "    if value is None or value == '':\n",
    "        return np.nan\n",
    "    \n",
    "    try:\n",
    "        if flg:\n",
    "            ret = int(value)\n",
    "        else:\n",
    "            ret = float(value)\n",
    "        return ret\n",
    "\n",
    "    except ValueError:\n",
    "        return np.nan"
   ]
  },
  {
   "cell_type": "code",
   "execution_count": 23,
   "metadata": {
    "colab": {},
    "colab_type": "code",
    "executionInfo": {
     "elapsed": 512,
     "status": "ok",
     "timestamp": 1594978416386,
     "user": {
      "displayName": "田中綾音",
      "photoUrl": "",
      "userId": "08389963741383968176"
     },
     "user_tz": -540
    },
    "id": "biJCNs8FahDo"
   },
   "outputs": [],
   "source": [
    "def get_race(url, text):\n",
    "    '''\n",
    "    レース情報取得\n",
    "    '''\n",
    "    try:\n",
    "        # レースID\n",
    "        race_id = int(url.split('/')[-2])\n",
    "\n",
    "        bs = BeautifulSoup(text)\n",
    "        title = bs.find('div', class_='data_intro')\n",
    "        # 競馬場\n",
    "        # 2020年5月16日 2回東京7日目 4歳以上オープン  (国際)(指)(別定)\n",
    "        p_title = title.find('p', class_='smalltxt').get_text()\n",
    "        p_title_list = p_title.split(' ')\n",
    "        place = re.sub('[0-9]+|回|日目', '', p_title_list[1])\n",
    "        # 芝/ゲート, 距離, 天候, 芝状態, 日時\n",
    "        span_title = title.find('span').get_text()\n",
    "        span_title_list = span_title.split('\\xa0/\\xa0')\n",
    "        track = span_title_list[0][0]\n",
    "        direction = span_title_list[0][1]\n",
    "        length = convert_num(re.search('\\d+', span_title_list[0]).group(), True)\n",
    "        weather = span_title_list[1].split(' : ')[1]\n",
    "        condition = span_title_list[2].split(' : ')[1]\n",
    "        date_ = datetime.strptime(p_title_list[0], '%Y年%m月%d日')\n",
    "            \n",
    "    except Exception as e:\n",
    "        print(f'{url} : {e}')\n",
    "        # return []\n",
    "    \n",
    "    return [race_id, date_, place, track, length, direction, weather, condition]\n",
    "\n",
    "def get_horse(race_id, text):\n",
    "    try:\n",
    "        bs = BeautifulSoup(text)\n",
    "        table = bs.find('table', class_='race_table_01 nk_tb_common')\n",
    "\n",
    "        title = []\n",
    "        for th in table.find_all('tr')[0].find_all('th'):\n",
    "            title.append(th.get_text())\n",
    "        \n",
    "        trs = table.find_all('tr')[1:]\n",
    "        data = []\n",
    "        for i in range(len(trs)):\n",
    "            tds = trs[i].find_all('td')\n",
    "            temp_data = []\n",
    "            for item in ['着順', '馬番', '馬名', '騎手', '人気']:\n",
    "                td = tds[title.index(item)]\n",
    "                if item in ['馬名', '騎手']:\n",
    "                    temp_data.append(td.find('a').get('href').split('/')[2])\n",
    "                else:\n",
    "                    temp_data.append(td.get_text())\n",
    "            temp_data.append(None)\n",
    "\n",
    "            data.append(temp_data)\n",
    "\n",
    "    except Exception as e:\n",
    "        print(e)\n",
    "\n",
    "    return data"
   ]
  },
  {
   "cell_type": "code",
   "execution_count": 28,
   "metadata": {
    "colab": {
     "base_uri": "https://localhost:8080/",
     "height": 35
    },
    "colab_type": "code",
    "executionInfo": {
     "elapsed": 7227,
     "status": "ok",
     "timestamp": 1594978697036,
     "user": {
      "displayName": "田中綾音",
      "photoUrl": "",
      "userId": "08389963741383968176"
     },
     "user_tz": -540
    },
    "id": "OC3OX20parCu",
    "outputId": "2b54e966-700e-42b8-a5c4-a5a2d8b8974e"
   },
   "outputs": [
    {
     "name": "stdout",
     "output_type": "stream",
     "text": [
      "1/3187 : 0.10935970147450765 min. Total: 0.10936211347579956 min.\n"
     ]
    }
   ],
   "source": [
    "main_time = time.time()\n",
    "\n",
    "\n",
    "race_data = []\n",
    "\n",
    "for i, url in enumerate(urls):\n",
    "    start_time = time.time()\n",
    "    # print(url)\n",
    "    time.sleep(5)\n",
    "\n",
    "    res = requests.get(url)\n",
    "    res.encoding = res.apparent_encoding\n",
    "\n",
    "    race_info = get_race(url, res.content)\n",
    "    horse_info = get_horse(race_info[0], res.content)\n",
    "\n",
    "    for horse in horse_info:\n",
    "        race_data.append(race_info+horse)\n",
    "    \n",
    "    print(f'{i+1}/{len(urls)} : {(time.time() - start_time) / 60} min. Total: {(time.time() - main_time) / 60} min.')\n",
    "\n",
    "df = pd.DataFrame(race_data, columns=['race_id', 'date', 'place', 'track', 'length', 'direction', 'weather', 'condition', 'rank', 'horse_num', 'horse_id', 'jockey_id', 'popularity', 'weight'])\n",
    "df.to_csv('race_data.csv', index=False, header=True)"
   ]
  }
 ],
 "metadata": {
  "colab": {
   "authorship_tag": "ABX9TyP+sLIf5WcXbWmkJbBpP992",
   "mount_file_id": "1HI19e2QJZIXZtagvYvPZrwvJkbWVHwGc",
   "name": "keiba_LTR_1_get race data.ipynb",
   "provenance": []
  },
  "kernelspec": {
   "display_name": "Python 3",
   "language": "python",
   "name": "python3"
  },
  "language_info": {
   "codemirror_mode": {
    "name": "ipython",
    "version": 3
   },
   "file_extension": ".py",
   "mimetype": "text/x-python",
   "name": "python",
   "nbconvert_exporter": "python",
   "pygments_lexer": "ipython3",
   "version": "3.7.6"
  }
 },
 "nbformat": 4,
 "nbformat_minor": 1
}
